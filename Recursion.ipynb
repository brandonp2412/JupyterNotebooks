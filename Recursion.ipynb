{
 "cells": [
  {
   "cell_type": "markdown",
   "metadata": {},
   "source": [
    "# Create the Fibonacci function iteratively"
   ]
  },
  {
   "cell_type": "code",
   "execution_count": 23,
   "metadata": {
    "collapsed": true
   },
   "outputs": [],
   "source": [
    "# Returns the nth fibonacci number\n",
    "def fib(n):\n",
    "    if n == 1:\n",
    "        return 0\n",
    "    elif n == 2:\n",
    "        return 1\n",
    "    a, b = 0, 1\n",
    "    for i in range(n-2):\n",
    "        t = b\n",
    "        b = a + b\n",
    "        a = t\n",
    "    return b"
   ]
  },
  {
   "cell_type": "markdown",
   "metadata": {},
   "source": [
    "# Show the 10th Fibonacci number"
   ]
  },
  {
   "cell_type": "code",
   "execution_count": 24,
   "metadata": {},
   "outputs": [
    {
     "data": {
      "text/plain": [
       "34"
      ]
     },
     "execution_count": 24,
     "metadata": {},
     "output_type": "execute_result"
    }
   ],
   "source": [
    "fib(10)"
   ]
  },
  {
   "cell_type": "markdown",
   "metadata": {},
   "source": [
    "# Now create the same function recursively"
   ]
  },
  {
   "cell_type": "code",
   "execution_count": 25,
   "metadata": {
    "collapsed": true
   },
   "outputs": [],
   "source": [
    "def fib_recursive(n):\n",
    "    if n == 1:\n",
    "        return 0\n",
    "    elif n == 2:\n",
    "        return 1\n",
    "    return fib_recursive(n-1) + fib_recursive(n-2)"
   ]
  },
  {
   "cell_type": "markdown",
   "metadata": {},
   "source": [
    "# Show the 10th Fibonacci number again"
   ]
  },
  {
   "cell_type": "code",
   "execution_count": 26,
   "metadata": {},
   "outputs": [
    {
     "data": {
      "text/plain": [
       "34"
      ]
     },
     "execution_count": 26,
     "metadata": {},
     "output_type": "execute_result"
    }
   ],
   "source": [
    "fib_recursive(10)"
   ]
  },
  {
   "cell_type": "markdown",
   "metadata": {},
   "source": [
    "# Compare speeds of both functions"
   ]
  },
  {
   "cell_type": "code",
   "execution_count": 27,
   "metadata": {
    "collapsed": true
   },
   "outputs": [],
   "source": [
    "import timeit"
   ]
  },
  {
   "cell_type": "code",
   "execution_count": 28,
   "metadata": {},
   "outputs": [
    {
     "name": "stdout",
     "output_type": "stream",
     "text": [
      "Time for iteration:\n",
      "0.7592462127340553\n",
      "Time for recursion:\n",
      "15.657293392534228\n"
     ]
    }
   ],
   "source": [
    "def fib10():\n",
    "    return fib(10)\n",
    "\n",
    "def fib10_recur():\n",
    "    return fib_recursive(10)\n",
    "\n",
    "print(\"Time for iteration:\")\n",
    "print(timeit.timeit(fib10))\n",
    "print(\"Time for recursion:\")\n",
    "print(timeit.timeit(fib10_recur))"
   ]
  },
  {
   "cell_type": "markdown",
   "metadata": {},
   "source": [
    "# Show the relationship between $n$ and $t$ for iteration"
   ]
  },
  {
   "cell_type": "code",
   "execution_count": 29,
   "metadata": {},
   "outputs": [],
   "source": [
    "i = 0\n",
    "def fibi():\n",
    "    return fib(i)\n",
    "\n",
    "iterative_times = []\n",
    "for x in range(20):\n",
    "    iterative_times.append(timeit.timeit(fibi))\n",
    "    i += 1"
   ]
  },
  {
   "cell_type": "code",
   "execution_count": 30,
   "metadata": {},
   "outputs": [
    {
     "data": {
      "image/png": "[encoded data removed]",
      "text/plain": [
       "<matplotlib.figure.Figure at 0x184636499b0>"
      ]
     },
     "metadata": {},
     "output_type": "display_data"
    }
   ],
   "source": [
    "import matplotlib.pyplot as plt\n",
    "plt.xlabel(\"n\")\n",
    "plt.ylabel(\"t\")\n",
    "plt.plot([n for n in range(20)], iterative_times)\n",
    "plt.show()"
   ]
  },
  {
   "cell_type": "markdown",
   "metadata": {},
   "source": [
    "This result confirms our intuition that fib(n) is $O(n)$ in terms of time complexity. This is apparent not only in our graph, but also in the construction of the function. Each increase in $n$ results in a factor of $n-2$ extra iterations, where $n-2 \\in O(n)$. We can prove this by the formal definition of big-O: $f(n) \\in O(g(n)) \\iff \\exists c_1 : f(n) \\le c_1 g(n) \\forall n \\ge n_0$ for some starting point $n_0 \\ge 0$. As shown in the graph, here, $n_0$ is about 3.75. Past that point, the function generally matches $n$."
   ]
  },
  {
   "cell_type": "markdown",
   "metadata": {},
   "source": [
    "# Show the relationship between $n$ and $t$ for recursion"
   ]
  },
  {
   "cell_type": "code",
   "execution_count": 31,
   "metadata": {},
   "outputs": [],
   "source": [
    "i = 1\n",
    "def fibi_recur():\n",
    "    return fib_recursive(i)\n",
    "recursive_times = []\n",
    "recursive_times.append(timeit.timeit(fibi_recur))\n",
    "i += 1\n",
    "recursive_times.append(timeit.timeit(fibi_recur))\n",
    "i += 1\n",
    "recursive_times.append(timeit.timeit(fibi_recur))\n",
    "i += 1\n",
    "recursive_times.append(timeit.timeit(fibi_recur))\n",
    "i += 1\n",
    "recursive_times.append(timeit.timeit(fibi_recur))"
   ]
  },
  {
   "cell_type": "code",
   "execution_count": 32,
   "metadata": {},
   "outputs": [
    {
     "data": {
      "image/png": "[encoded data removed]",
      "text/plain": [
       "<matplotlib.figure.Figure at 0x18465ab0b70>"
      ]
     },
     "metadata": {},
     "output_type": "display_data"
    }
   ],
   "source": [
    "plt.xlabel(\"n\")\n",
    "plt.ylabel(\"t\")\n",
    "plt.plot([n for n in range(5)], recursive_times)\n",
    "plt.show()"
   ]
  },
  {
   "cell_type": "markdown",
   "metadata": {},
   "source": [
    "This result is also as expected, following an exponential curve. Here is a comparison to it's upper bound (big-O) function:"
   ]
  },
  {
   "cell_type": "code",
   "execution_count": 35,
   "metadata": {},
   "outputs": [
    {
     "data": {
      "image/png": "[encoded data removed]",
      "text/plain": [
       "<matplotlib.figure.Figure at 0x18465539898>"
      ]
     },
     "metadata": {},
     "output_type": "display_data"
    }
   ],
   "source": [
    "plt.xlabel(\"n\")\n",
    "plt.ylabel(\"t\")\n",
    "plt.plot([n for n in range(10)], [2 ** t for t in range(10)])\n",
    "plt.show()"
   ]
  }
 ],
 "metadata": {
  "kernelspec": {
   "display_name": "Python 3",
   "language": "python",
   "name": "python3"
  },
  "language_info": {
   "codemirror_mode": {
    "name": "ipython",
    "version": 3
   },
   "file_extension": ".py",
   "mimetype": "text/x-python",
   "name": "python",
   "nbconvert_exporter": "python",
   "pygments_lexer": "ipython3",
   "version": "3.6.1"
  }
 },
 "nbformat": 4,
 "nbformat_minor": 2
}

{
 "cells": [
  {
   "cell_type": "markdown",
   "metadata": {},
   "source": [
    "<h1>Define binary trees</h1>"
   ]
  },
  {
   "cell_type": "code",
   "execution_count": 43,
   "metadata": {
    "collapsed": true
   },
   "outputs": [],
   "source": [
    "class Node:\n",
    "    def __init__(self, value, left_child=None, right_child=None):\n",
    "        self.value = value\n",
    "        self.left_child = left_child\n",
    "        self.right_child = right_child\n",
    "        self.is_leaf = self.left_child is None and self.right_child is None\n",
    "        self.is_parent = not self.is_leaf\n",
    "        \n",
    "    def __str__(self):\n",
    "        return str(self.value)\n",
    "        \n",
    "class Tree:\n",
    "    def __init__(self, root):\n",
    "        self.root = root"
   ]
  },
  {
   "cell_type": "markdown",
   "metadata": {},
   "source": [
    "# Create the following binary tree\n",
    "![Binary Tree](images/bst-example.png)"
   ]
  },
  {
   "cell_type": "code",
   "execution_count": 48,
   "metadata": {
    "collapsed": true
   },
   "outputs": [],
   "source": [
    "root = Node(5, Node(2, Node(-4), Node(3)), Node(18))\n",
    "tree = Tree(root)"
   ]
  },
  {
   "cell_type": "markdown",
   "metadata": {},
   "source": [
    "# Prove this tree has the same children as the depicted"
   ]
  },
  {
   "cell_type": "code",
   "execution_count": 51,
   "metadata": {},
   "outputs": [
    {
     "name": "stdout",
     "output_type": "stream",
     "text": [
      "[-4, 3, 18]\n"
     ]
    }
   ],
   "source": [
    "def get_leaves(tree):\n",
    "    leaves = []\n",
    "    def recursive_get_leaves(node):\n",
    "        if node is None:\n",
    "            return\n",
    "        elif node.is_leaf:\n",
    "            leaves.append(node)\n",
    "        else:\n",
    "            recursive_get_leaves(node.left_child)\n",
    "            recursive_get_leaves(node.right_child)\n",
    "    recursive_get_leaves(tree.root)\n",
    "    return leaves\n",
    "\n",
    "print([node.value for node in get_leaves(tree)])"
   ]
  },
  {
   "cell_type": "markdown",
   "metadata": {},
   "source": [
    "# Create a method for generating an arbitrary perfect binary tree"
   ]
  },
  {
   "cell_type": "code",
   "execution_count": null,
   "metadata": {
    "collapsed": true
   },
   "outputs": [],
   "source": [
    "import random, math\n",
    "\n",
    "def generate_tree(depth):\n",
    "    n = 2 ** (depth + 1) - 1\n",
    "    node_values = [random.randint(-100, 100) for x in range(n)]\n",
    "    return decode_tree(node_values)\n",
    "\n",
    "def decode_tree(node_values):\n",
    "    root = Node()"
   ]
  }
 ],
 "metadata": {
  "kernelspec": {
   "display_name": "Python 3",
   "language": "python",
   "name": "python3"
  },
  "language_info": {
   "codemirror_mode": {
    "name": "ipython",
    "version": 3
   },
   "file_extension": ".py",
   "mimetype": "text/x-python",
   "name": "python",
   "nbconvert_exporter": "python",
   "pygments_lexer": "ipython3",
   "version": "3.6.1"
  }
 },
 "nbformat": 4,
 "nbformat_minor": 2
}

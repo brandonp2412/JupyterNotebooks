{
 "cells": [
  {
   "cell_type": "markdown",
   "metadata": {},
   "source": [
    "<h2>Create a class to store the information of a single input mathematical function, e.g. $f(x) = x^3 + 3x^2 - x + 3$</h2>"
   ]
  },
  {
   "cell_type": "code",
   "execution_count": 18,
   "metadata": {
    "collapsed": true
   },
   "outputs": [],
   "source": [
    "class Function:\n",
    "    # Coefficients are considered to be zero for empty terms, e.g.\n",
    "    # f(x) = x^2 + 3 would have coefficients = [3, 0, 1]\n",
    "    def __init__(self, coefficients):\n",
    "        self.coefficients = coefficients\n",
    "    \n",
    "    # Empty coefficient list means the function is f(x) = 0\n",
    "    def evaluate(self, x):\n",
    "        if self.coefficients is None:\n",
    "            return 0\n",
    "        total = 0\n",
    "        for i in range(len(self.coefficients)):\n",
    "            total += self.coefficients[i] * x ** i\n",
    "        return total\n",
    "    \n",
    "    def differentiate(self, n):\n",
    "        if self.coefficients is None or n > len(self.coefficients):\n",
    "            return Function(None)\n",
    "        coefficients = self.coefficients.copy()\n",
    "        for i in range(len(coefficients)):\n",
    "            coefficients[i] *= i\n",
    "        for i in range(n):\n",
    "            del coefficients[0]\n",
    "        return Function(coefficients)"
   ]
  },
  {
   "cell_type": "markdown",
   "metadata": {},
   "source": [
    "<h2>Now create the function $f(x) = x$</h2>"
   ]
  },
  {
   "cell_type": "code",
   "execution_count": 19,
   "metadata": {
    "collapsed": true
   },
   "outputs": [],
   "source": [
    "f = Function([0, 1])"
   ]
  },
  {
   "cell_type": "markdown",
   "metadata": {},
   "source": [
    "<h2>And show that $f(0) = 0$ and that $f(1) = 1$ </h2>"
   ]
  },
  {
   "cell_type": "code",
   "execution_count": 20,
   "metadata": {},
   "outputs": [
    {
     "name": "stdout",
     "output_type": "stream",
     "text": [
      "0\n",
      "1\n"
     ]
    }
   ],
   "source": [
    "print(f.evaluate(0))\n",
    "print(f.evaluate(1))"
   ]
  },
  {
   "cell_type": "markdown",
   "metadata": {},
   "source": [
    "<h2>Now take the 3rd derivative of $f$ with respect to $x$ and then show that $f'''(n) = 0$</h2>"
   ]
  },
  {
   "cell_type": "code",
   "execution_count": 36,
   "metadata": {},
   "outputs": [
    {
     "data": {
      "text/plain": [
       "True"
      ]
     },
     "execution_count": 36,
     "metadata": {},
     "output_type": "execute_result"
    }
   ],
   "source": [
    "import random\n",
    "f3 = f.differentiate(3)\n",
    "all(f3.evaluate(random.randint(1,100)) == 0 for x in range(100))"
   ]
  },
  {
   "cell_type": "markdown",
   "metadata": {},
   "source": [
    "# Create the function $g(x) = x^{100}$"
   ]
  },
  {
   "cell_type": "code",
   "execution_count": 37,
   "metadata": {
    "collapsed": true
   },
   "outputs": [],
   "source": [
    "g = Function([0 for x in range(100)])\n",
    "g.coefficients.append(1)"
   ]
  },
  {
   "cell_type": "markdown",
   "metadata": {},
   "source": [
    "# Now show that $g'(2) = 100 \\times 2^{99}$"
   ]
  },
  {
   "cell_type": "code",
   "execution_count": 40,
   "metadata": {},
   "outputs": [
    {
     "data": {
      "text/plain": [
       "True"
      ]
     },
     "execution_count": 40,
     "metadata": {},
     "output_type": "execute_result"
    }
   ],
   "source": [
    "dg = g.differentiate(1)\n",
    "dg.evaluate(2) == 100*2**99"
   ]
  },
  {
   "cell_type": "markdown",
   "metadata": {},
   "source": [
    "# We want to estimate roots, create a function which utilizes Newtons method of root finding"
   ]
  },
  {
   "cell_type": "code",
   "execution_count": 59,
   "metadata": {
    "collapsed": true
   },
   "outputs": [],
   "source": [
    "def newtons(f, accuracy):\n",
    "    x = 0\n",
    "    df = f.differentiate(1)\n",
    "    while abs(f.evaluate(x)) > accuracy:\n",
    "        x -= f.evaluate(x) / df.evaluate(x)\n",
    "    return x"
   ]
  },
  {
   "cell_type": "markdown",
   "metadata": {},
   "source": [
    "# Find the root for g"
   ]
  },
  {
   "cell_type": "code",
   "execution_count": 60,
   "metadata": {},
   "outputs": [
    {
     "data": {
      "text/plain": [
       "0"
      ]
     },
     "execution_count": 60,
     "metadata": {},
     "output_type": "execute_result"
    }
   ],
   "source": [
    "newtons(g, 1e-7)"
   ]
  },
  {
   "cell_type": "markdown",
   "metadata": {},
   "source": [
    "# Compare the newtons estimated root of an arbitrary function to its actual output"
   ]
  },
  {
   "cell_type": "code",
   "execution_count": 61,
   "metadata": {
    "collapsed": true
   },
   "outputs": [],
   "source": [
    "h = Function([random.randint(-100, 100) for x in range(10)])"
   ]
  },
  {
   "cell_type": "code",
   "execution_count": 62,
   "metadata": {},
   "outputs": [
    {
     "data": {
      "text/plain": [
       "[-3, -92, -37, -67, 6, -99, 29, -23, 30, 47]"
      ]
     },
     "execution_count": 62,
     "metadata": {},
     "output_type": "execute_result"
    }
   ],
   "source": [
    "h.coefficients"
   ]
  },
  {
   "cell_type": "code",
   "execution_count": 63,
   "metadata": {},
   "outputs": [
    {
     "data": {
      "text/plain": [
       "-3"
      ]
     },
     "execution_count": 63,
     "metadata": {},
     "output_type": "execute_result"
    }
   ],
   "source": [
    "h.evaluate(0)"
   ]
  },
  {
   "cell_type": "code",
   "execution_count": 64,
   "metadata": {},
   "outputs": [
    {
     "data": {
      "text/plain": [
       "-0.033020875922655984"
      ]
     },
     "execution_count": 64,
     "metadata": {},
     "output_type": "execute_result"
    }
   ],
   "source": [
    "estimate = newtons(h, 1e-7)\n",
    "estimate"
   ]
  },
  {
   "cell_type": "code",
   "execution_count": 65,
   "metadata": {},
   "outputs": [
    {
     "data": {
      "text/plain": [
       "-1.0018712614901179e-13"
      ]
     },
     "execution_count": 65,
     "metadata": {},
     "output_type": "execute_result"
    }
   ],
   "source": [
    "h.evaluate(estimate)"
   ]
  }
 ],
 "metadata": {
  "kernelspec": {
   "display_name": "Python 3",
   "language": "python",
   "name": "python3"
  },
  "language_info": {
   "codemirror_mode": {
    "name": "ipython",
    "version": 3
   },
   "file_extension": ".py",
   "mimetype": "text/x-python",
   "name": "python",
   "nbconvert_exporter": "python",
   "pygments_lexer": "ipython3",
   "version": "3.6.1"
  }
 },
 "nbformat": 4,
 "nbformat_minor": 2
}

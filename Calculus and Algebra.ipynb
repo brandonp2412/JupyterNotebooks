{
 "cells": [
  {
   "cell_type": "markdown",
   "metadata": {},
   "source": [
    "<h2>Create a class to store the information of a single input mathematical function, e.g. $f(x) = x^3 + 3x^2 - x + 3$</h2>"
   ]
  },
  {
   "cell_type": "code",
   "execution_count": 67,
   "metadata": {
    "collapsed": true
   },
   "outputs": [],
   "source": [
    "class Function:\n",
    "    # Coefficients are considered to be zero for empty terms, e.g.\n",
    "    # f(x) = x^2 + 3 would have coefficients = [3, 0, 1]\n",
    "    def __init__(self, coefficients):\n",
    "        self.coefficients = coefficients\n",
    "    \n",
    "    \n",
    "    def evaluate(self, x):\n",
    "        if self.coefficients is None:\n",
    "            return 0\n",
    "        total = 0\n",
    "        for i in range(len(self.coefficients)):\n",
    "            total += self.coefficients[i] * x ** i\n",
    "        return total\n",
    "    \n",
    "    \n",
    "    def differentiate(self, n):\n",
    "        if self.coefficients is None or n > len(self.coefficients):\n",
    "            if n > len(self.coefficients):\n",
    "                self.coefficients = None\n",
    "            return\n",
    "        for i in range(len(self.coefficients)):\n",
    "            self.coefficients[i] *= i\n",
    "        for i in range(n):\n",
    "            del self.coefficients[0]"
   ]
  },
  {
   "cell_type": "markdown",
   "metadata": {},
   "source": [
    "<h2>Now create the function $f(x) = x$</h2>"
   ]
  },
  {
   "cell_type": "code",
   "execution_count": 73,
   "metadata": {
    "collapsed": true
   },
   "outputs": [],
   "source": [
    "f = Function([0, 1])"
   ]
  },
  {
   "cell_type": "markdown",
   "metadata": {},
   "source": [
    "<h2>Show that $f(0) = 0$ and that $f(1) = 1$ </h2>"
   ]
  },
  {
   "cell_type": "code",
   "execution_count": 75,
   "metadata": {},
   "outputs": [
    {
     "name": "stdout",
     "output_type": "stream",
     "text": [
      "0\n",
      "1\n"
     ]
    }
   ],
   "source": [
    "print(f.evaluate(0))\n",
    "print(f.evaluate(1))"
   ]
  },
  {
   "cell_type": "markdown",
   "metadata": {},
   "source": [
    "<h2>Now take the 3rd derivative of $f$ with respect to $x$ and then show that $f'''(n) = 0$</h2>"
   ]
  },
  {
   "cell_type": "code",
   "execution_count": 76,
   "metadata": {},
   "outputs": [
    {
     "name": "stdout",
     "output_type": "stream",
     "text": [
      "0\n",
      "0\n"
     ]
    }
   ],
   "source": [
    "f.differentiate(3)\n",
    "print(f.evaluate(50))\n",
    "print(f.evaluate(1000))"
   ]
  },
  {
   "cell_type": "markdown",
   "metadata": {},
   "source": [
    "# Create the function $g(x) = x^{100}$"
   ]
  },
  {
   "cell_type": "code",
   "execution_count": 78,
   "metadata": {},
   "outputs": [],
   "source": [
    "g = Function([0 for x in range(100)])\n",
    "g.coefficients.append(1)"
   ]
  },
  {
   "cell_type": "markdown",
   "metadata": {},
   "source": [
    "# Now show that $g'(2) = 100 \\times 2^{99}$"
   ]
  },
  {
   "cell_type": "code",
   "execution_count": 85,
   "metadata": {},
   "outputs": [
    {
     "data": {
      "text/plain": [
       "True"
      ]
     },
     "execution_count": 85,
     "metadata": {},
     "output_type": "execute_result"
    }
   ],
   "source": [
    "g.differentiate(1)\n",
    "g.evaluate(2) == 100*2**99"
   ]
  }
 ],
 "metadata": {
  "kernelspec": {
   "display_name": "Python 3",
   "language": "python",
   "name": "python3"
  },
  "language_info": {
   "codemirror_mode": {
    "name": "ipython",
    "version": 3
   },
   "file_extension": ".py",
   "mimetype": "text/x-python",
   "name": "python",
   "nbconvert_exporter": "python",
   "pygments_lexer": "ipython3",
   "version": "3.6.1"
  }
 },
 "nbformat": 4,
 "nbformat_minor": 2
}

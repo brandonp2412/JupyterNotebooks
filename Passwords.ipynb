{
 "cells": [
  {
   "cell_type": "markdown",
   "metadata": {},
   "source": [
    "<h2>Problem</h2> \n",
    "Every website requires a registration for basic tasks\n",
    "<h2>Solution</h2>\n",
    "Create a pseudorandom password generator"
   ]
  },
  {
   "cell_type": "code",
   "execution_count": 6,
   "metadata": {
    "collapsed": true
   },
   "outputs": [],
   "source": [
    "import string, random\n",
    "def generate_password(length):\n",
    "    password = \"\"\n",
    "    for i in range(length):\n",
    "        choices = string.ascii_letters + string.digits + string.punctuation\n",
    "        password += random.choice(choices)\n",
    "    return password"
   ]
  },
  {
   "cell_type": "markdown",
   "metadata": {},
   "source": [
    "## Mongodb Local Logging"
   ]
  },
  {
   "cell_type": "code",
   "execution_count": 27,
   "metadata": {
    "collapsed": true
   },
   "outputs": [],
   "source": [
    "from pymongo import MongoClient\n",
    "def log_password(username, password, url):\n",
    "    client = MongoClient(\"localhost\", 27017)\n",
    "    random_db = client.random_passwords\n",
    "    random_col = random_db[\"rng_passwords\"]\n",
    "    random_col.insert_one({\"Username\": username, \n",
    "                           \"Password\": password,\n",
    "                           \"Url\":      url})\n",
    "    client.close()"
   ]
  },
  {
   "cell_type": "markdown",
   "metadata": {},
   "source": [
    "## Testing of logging"
   ]
  },
  {
   "cell_type": "code",
   "execution_count": 8,
   "metadata": {},
   "outputs": [
    {
     "name": "stdout",
     "output_type": "stream",
     "text": [
      "Randomly generated password is: F.{tk<\">R>\n"
     ]
    }
   ],
   "source": [
    "password = generate_password(10)\n",
    "print(\"Randomly generated password is:\", password)\n",
    "log_password(\"johndoe@gmail.com\", password, \"https://my.stuff.co.nz\")"
   ]
  },
  {
   "cell_type": "markdown",
   "metadata": {},
   "source": [
    "## Create function to retrieve a record"
   ]
  },
  {
   "cell_type": "code",
   "execution_count": 28,
   "metadata": {
    "collapsed": true
   },
   "outputs": [],
   "source": [
    "def retrieve(username, url=None):\n",
    "    client = MongoClient(\"localhost\", 27017)\n",
    "    random_db = client.random_passwords\n",
    "    random_col = random_db[\"rng_passwords\"]\n",
    "    if url is not None:\n",
    "        return random_col.find_one({\"Username\": username, \"Url\": url})\n",
    "    client.close()\n",
    "    return random_col.find({\"Username\": username})"
   ]
  },
  {
   "cell_type": "markdown",
   "metadata": {},
   "source": [
    "## Test encapsulation"
   ]
  },
  {
   "cell_type": "code",
   "execution_count": 10,
   "metadata": {},
   "outputs": [
    {
     "data": {
      "text/plain": [
       "False"
      ]
     },
     "execution_count": 10,
     "metadata": {},
     "output_type": "execute_result"
    }
   ],
   "source": [
    "def test_password_entry(username, password, url):\n",
    "    user_record = retrieve(username, url)\n",
    "    if user_record is None:\n",
    "        return False\n",
    "    return user_record[\"Password\"] == password\n",
    "\n",
    "test_password_entry(\"johndoe@gmail.com\", password, \"https://my.stuff.co.nz\")"
   ]
  },
  {
   "cell_type": "markdown",
   "metadata": {},
   "source": [
    "## Send generated password to the clipboard"
   ]
  },
  {
   "cell_type": "code",
   "execution_count": 11,
   "metadata": {},
   "outputs": [
    {
     "name": "stdout",
     "output_type": "stream",
     "text": [
      ";K$3,b-_&P\n"
     ]
    }
   ],
   "source": [
    "import pyperclip\n",
    "pyperclip.copy(generate_password(10))\n",
    "print(pyperclip.paste())"
   ]
  },
  {
   "cell_type": "markdown",
   "metadata": {},
   "source": [
    "## Bundle all functionality together"
   ]
  },
  {
   "cell_type": "code",
   "execution_count": 12,
   "metadata": {
    "collapsed": true
   },
   "outputs": [],
   "source": [
    "import pyperclip\n",
    "def password_package(username, url, length=10):\n",
    "    password = generate_password(length)\n",
    "    log_password(username, password, url)\n",
    "    if not test_password_entry(username, password, url):\n",
    "        raise Exception(\"Logging has failed, check db\")\n",
    "    pyperclip.copy(password)\n",
    "    print(\"Password has been generated, logged, and sent to clipboard.\")"
   ]
  },
  {
   "cell_type": "markdown",
   "metadata": {},
   "source": [
    "## Testing of package"
   ]
  },
  {
   "cell_type": "code",
   "execution_count": 20,
   "metadata": {},
   "outputs": [
    {
     "name": "stdout",
     "output_type": "stream",
     "text": [
      "Password has been generated, logged, and sent to clipboard.\n"
     ]
    }
   ],
   "source": [
    "password_package(\"big_boy@gmail.com\", \"reddit.com\")"
   ]
  },
  {
   "cell_type": "code",
   "execution_count": 23,
   "metadata": {},
   "outputs": [
    {
     "data": {
      "text/plain": [
       "True"
      ]
     },
     "execution_count": 23,
     "metadata": {},
     "output_type": "execute_result"
    }
   ],
   "source": [
    "result = retrieve(username=\"big_boy@gmail.com\", url=\"reddit.com\")\n",
    "password = result['Password']\n",
    "url = result['Url']\n",
    "username = result['Username']\n",
    "test_password_entry(username, password, url)"
   ]
  },
  {
   "cell_type": "markdown",
   "metadata": {},
   "source": [
    "<h2>Problem</h2>\n",
    "Websites have varying restrictions on passwords, for example some sites require at least one capital letter, number and punctuation character.\n",
    "<h2>Solution</h2>\n",
    "Make a function for randomly altering the generated password to conform with restrictions provided."
   ]
  },
  {
   "cell_type": "code",
   "execution_count": 35,
   "metadata": {},
   "outputs": [],
   "source": [
    "def insert(string, char, pos):\n",
    "    return string[:pos] + char + string[pos:]\n",
    "\n",
    "def restrict(password, capitals=0, numbers=0, punctuation=0):\n",
    "    if capitals == 0 and numbers == 0 and punctuation == 0:\n",
    "        raise Error(\"At least one restriction must be provided\")\n",
    "    for i in range(capitals):\n",
    "        cap = random.choice(string.ascii_uppercase)\n",
    "        password = insert(password, cap, random.randint(1, len(password)-1))\n",
    "    for j in range(numbers):\n",
    "        num = random.choice(string.digits)\n",
    "        password = insert(password, num, random.randint(1, len(password)-1))\n",
    "    for k in range(punctuation):\n",
    "        punc = random.choice(string.punctuation)\n",
    "        password = insert(password, punc, random.randint(1, len(password)-1))\n",
    "    return password"
   ]
  },
  {
   "cell_type": "markdown",
   "metadata": {},
   "source": [
    "## Testing for restriction"
   ]
  },
  {
   "cell_type": "code",
   "execution_count": 38,
   "metadata": {},
   "outputs": [
    {
     "name": "stdout",
     "output_type": "stream",
     "text": [
      "Generated password\t\tRestricted Password\n",
      "js9yn\t\t\tjKMWCs9yn\n",
      "7Lq*N\t\t\t7OLqN*MSN\n",
      "8i4]T\t\t\t8PiK4AN]T\n",
      "LG,>m\t\t\tLLPAG,O>m\n",
      "sAKf\\\t\t\tsAKKfYNL\\\n"
     ]
    }
   ],
   "source": [
    "print(\"Generated password\\t\\tRestricted Password\")\n",
    "for i in range(5):\n",
    "    password = generate_password(5)\n",
    "    print(password + \"\\t\\t\\t\" + restrict(password, capitals=4))"
   ]
  },
  {
   "cell_type": "code",
   "execution_count": null,
   "metadata": {
    "collapsed": true
   },
   "outputs": [],
   "source": []
  }
 ],
 "metadata": {
  "kernelspec": {
   "display_name": "Python 3",
   "language": "python",
   "name": "python3"
  },
  "language_info": {
   "codemirror_mode": {
    "name": "ipython",
    "version": 3
   },
   "file_extension": ".py",
   "mimetype": "text/x-python",
   "name": "python",
   "nbconvert_exporter": "python",
   "pygments_lexer": "ipython3",
   "version": "3.6.1"
  }
 },
 "nbformat": 4,
 "nbformat_minor": 2
}

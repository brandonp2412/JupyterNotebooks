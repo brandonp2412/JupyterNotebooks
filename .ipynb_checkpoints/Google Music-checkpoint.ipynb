{
 "cells": [
  {
   "cell_type": "markdown",
   "metadata": {},
   "source": [
    "# Google Music\n",
    "<h3>Problem</h3>\n",
    "Searching cannot be done within a playlist.\n",
    "\n",
    "<h3>Solution</h3>\n",
    "Utilize the unofficial <a href=\"https://github.com/simon-weber/gmusicapi\">Google music API by Simon Weber</a> to retrieve a playlist which we can then search for a given song."
   ]
  },
  {
   "cell_type": "code",
   "execution_count": null,
   "metadata": {
    "collapsed": true
   },
   "outputs": [],
   "source": []
  }
 ],
 "metadata": {
  "kernelspec": {
   "display_name": "Python 3",
   "language": "python",
   "name": "python3"
  },
  "language_info": {
   "codemirror_mode": {
    "name": "ipython",
    "version": 3
   },
   "file_extension": ".py",
   "mimetype": "text/x-python",
   "name": "python",
   "nbconvert_exporter": "python",
   "pygments_lexer": "ipython3",
   "version": "3.6.1"
  }
 },
 "nbformat": 4,
 "nbformat_minor": 2
}

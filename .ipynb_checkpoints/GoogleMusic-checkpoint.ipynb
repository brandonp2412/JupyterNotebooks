{
 "cells": [
  {
   "cell_type": "markdown",
   "metadata": {},
   "source": [
    "# Google Music\n",
    "<h3>Problem</h3>\n",
    "Searching cannot be done within a playlist.\n",
    "\n",
    "<h3>Solution</h3>\n",
    "Utilize the unofficial <a href=\"https://github.com/simon-weber/gmusicapi\">Google music API by Simon Weber</a> to retrieve a playlist which we can then search for a given song."
   ]
  },
  {
   "cell_type": "code",
   "execution_count": 4,
   "metadata": {
    "collapsed": true
   },
   "outputs": [],
   "source": [
    "from gmusicapi import Mobileclient"
   ]
  },
  {
   "cell_type": "code",
   "execution_count": 19,
   "metadata": {},
   "outputs": [
    {
     "name": "stdout",
     "output_type": "stream",
     "text": [
      "brandonp2412@gmail.com\n",
      "········\n"
     ]
    },
    {
     "data": {
      "text/plain": [
       "True"
      ]
     },
     "execution_count": 19,
     "metadata": {},
     "output_type": "execute_result"
    }
   ],
   "source": [
    "from getpass import getpass\n",
    "client = Mobileclient()\n",
    "client.login(input(), getpass(), Mobileclient.FROM_MAC_ADDRESS)"
   ]
  },
  {
   "cell_type": "code",
   "execution_count": 23,
   "metadata": {},
   "outputs": [
    {
     "data": {
      "text/plain": [
       "{'album': 'Reelin´and Rockin´',\n",
       " 'albumArtRef': [{'aspectRatio': '1',\n",
       "   'autogen': False,\n",
       "   'kind': 'sj#imageRef',\n",
       "   'url': 'http://lh5.ggpht.com/hLX2AgsfoLSkWV4ssX1S8dtCz2io3jvMhIUe3o5Mr8MimFf6orfcZduSud99uomGSuYYSnZ2rw'}],\n",
       " 'albumArtist': 'Chuck Berry',\n",
       " 'albumId': 'Brozwtswddpul74d2grx76priai',\n",
       " 'artist': 'Chuck Berry',\n",
       " 'artistArtRef': [{'aspectRatio': '2',\n",
       "   'autogen': False,\n",
       "   'kind': 'sj#imageRef',\n",
       "   'url': 'http://lh3.googleusercontent.com/Jz5f2HI_HEonbeJd10ZQcu5GzMQaAuMFIsrHoAaLm9oWXRqUHfgPCW1QQV5_XUZvIXz91zHJ'}],\n",
       " 'artistId': ['Aod7bpj4ostpshcde3yxrbwxa74'],\n",
       " 'clientId': 'a9909163-316b-4f70-ba39-a78b89ca0d08',\n",
       " 'composer': 'Chuck Berry',\n",
       " 'creationTimestamp': '1489930650100626',\n",
       " 'deleted': False,\n",
       " 'discNumber': 1,\n",
       " 'durationMillis': '134000',\n",
       " 'estimatedSize': '5402149',\n",
       " 'explicitType': '2',\n",
       " 'genre': \"'50s Rock\",\n",
       " 'id': 'eb82e6a9-2937-3a33-89d4-e5d933448990',\n",
       " 'kind': 'sj#track',\n",
       " 'lastModifiedTimestamp': '1489930650100626',\n",
       " 'nid': 'Tkhze5y3vrt4vpsghnlnrzrs6lu',\n",
       " 'playCount': 2,\n",
       " 'recentTimestamp': '1489930650095000',\n",
       " 'storeId': 'Tkhze5y3vrt4vpsghnlnrzrs6lu',\n",
       " 'title': 'Brown Eyed Handsome Man',\n",
       " 'trackNumber': 6,\n",
       " 'trackType': '8',\n",
       " 'year': 2011}"
      ]
     },
     "execution_count": 23,
     "metadata": {},
     "output_type": "execute_result"
    }
   ],
   "source": [
    "client.get_all_songs()[0]"
   ]
  },
  {
   "cell_type": "markdown",
   "metadata": {},
   "source": [
    "# In conclusion, gmusicapi sucks and can't do anything right."
   ]
  }
 ],
 "metadata": {
  "kernelspec": {
   "display_name": "Python 3",
   "language": "python",
   "name": "python3"
  },
  "language_info": {
   "codemirror_mode": {
    "name": "ipython",
    "version": 3
   },
   "file_extension": ".py",
   "mimetype": "text/x-python",
   "name": "python",
   "nbconvert_exporter": "python",
   "pygments_lexer": "ipython3",
   "version": "3.6.1"
  }
 },
 "nbformat": 4,
 "nbformat_minor": 2
}

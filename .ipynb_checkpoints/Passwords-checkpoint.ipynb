{
 "cells": [
  {
   "cell_type": "markdown",
   "metadata": {},
   "source": [
    "# Problem: Every website requires a registration for basic tasks\n",
    "# Solution: Create a pseudorandom password generator"
   ]
  },
  {
   "cell_type": "code",
   "execution_count": 50,
   "metadata": {},
   "outputs": [],
   "source": [
    "import string, random\n",
    "def generate_password(length):\n",
    "    password = \"\"\n",
    "    for i in range(length):\n",
    "        choices = string.ascii_letters + string.digits + string.punctuation\n",
    "        password += random.choice(choices)\n",
    "    return password"
   ]
  },
  {
   "cell_type": "markdown",
   "metadata": {},
   "source": [
    "# Mongodb Local Logging"
   ]
  },
  {
   "cell_type": "code",
   "execution_count": 49,
   "metadata": {
    "collapsed": true
   },
   "outputs": [],
   "source": [
    "from pymongo import MongoClient\n",
    "def log_password(username, password, url):\n",
    "    client = MongoClient(\"localhost\", 27017)\n",
    "    random_db = client.random_passwords\n",
    "    random_col = random_db[\"rng_passwords\"]\n",
    "    random_col.insert_one({\"Username\": username, \n",
    "                           \"Password\": password,\n",
    "                           \"Url\":      url})"
   ]
  },
  {
   "cell_type": "markdown",
   "metadata": {},
   "source": [
    "# Test this for stuff.co.nz"
   ]
  },
  {
   "cell_type": "code",
   "execution_count": 55,
   "metadata": {},
   "outputs": [
    {
     "name": "stdout",
     "output_type": "stream",
     "text": [
      "Randomly generated password is: tN:U]j*bE{\n"
     ]
    }
   ],
   "source": [
    "password = generate_password(10)\n",
    "print(\"Randomly generated password is:\", password)\n",
    "log_password(\"brandonp2412@gmail.com\", password, \"https://my.stuff.co.nz\")"
   ]
  },
  {
   "cell_type": "markdown",
   "metadata": {},
   "source": [
    "# Create function to retrieve a record"
   ]
  },
  {
   "cell_type": "code",
   "execution_count": 56,
   "metadata": {
    "collapsed": true
   },
   "outputs": [],
   "source": [
    "def retrieve(username, url=None):\n",
    "    client = MongoClient(\"localhost\", 27017)\n",
    "    random_db = client.random_passwords\n",
    "    random_col = random_db[\"rng_passwords\"]\n",
    "    if url is not None:\n",
    "        return random_col.find({\"Username\": username, \"Url\": url})\n",
    "    return random_col.find({\"Username\": username})"
   ]
  },
  {
   "cell_type": "code",
   "execution_count": 61,
   "metadata": {},
   "outputs": [
    {
     "data": {
      "text/plain": [
       "{'Password': 'tN:U]j*bE{',\n",
       " 'Url': 'https://my.stuff.co.nz',\n",
       " 'Username': 'brandonp2412@gmail.com',\n",
       " '_id': ObjectId('5997dbd6c3372d230cc98317')}"
      ]
     },
     "execution_count": 61,
     "metadata": {},
     "output_type": "execute_result"
    }
   ],
   "source": [
    "retrieve(\"brandonp2412@gmail.com\")[0]"
   ]
  },
  {
   "cell_type": "code",
   "execution_count": null,
   "metadata": {
    "collapsed": true
   },
   "outputs": [],
   "source": []
  }
 ],
 "metadata": {
  "kernelspec": {
   "display_name": "Python 3",
   "language": "python",
   "name": "python3"
  },
  "language_info": {
   "codemirror_mode": {
    "name": "ipython",
    "version": 3
   },
   "file_extension": ".py",
   "mimetype": "text/x-python",
   "name": "python",
   "nbconvert_exporter": "python",
   "pygments_lexer": "ipython3",
   "version": "3.6.1"
  }
 },
 "nbformat": 4,
 "nbformat_minor": 2
}

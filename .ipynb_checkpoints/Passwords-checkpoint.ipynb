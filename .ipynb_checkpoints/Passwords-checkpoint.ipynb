{
 "cells": [
  {
   "cell_type": "markdown",
   "metadata": {},
   "source": [
    "# Problem: Every website requires a registration for basic tasks\n",
    "# Solution: Create a pseudorandom password generator"
   ]
  },
  {
   "cell_type": "code",
   "execution_count": 50,
   "metadata": {},
   "outputs": [],
   "source": [
    "import string, random\n",
    "def generate_password(length):\n",
    "    password = \"\"\n",
    "    for i in range(length):\n",
    "        choices = string.ascii_letters + string.digits + string.punctuation\n",
    "        password += random.choice(choices)\n",
    "    return password"
   ]
  },
  {
   "cell_type": "markdown",
   "metadata": {},
   "source": [
    "# Mongodb Local Logging"
   ]
  },
  {
   "cell_type": "code",
   "execution_count": 49,
   "metadata": {
    "collapsed": true
   },
   "outputs": [],
   "source": [
    "from pymongo import MongoClient\n",
    "def log_password(username, password, url):\n",
    "    client = MongoClient(\"localhost\", 27017)\n",
    "    random_db = client.random_passwords\n",
    "    random_col = random_db[\"rng_passwords\"]\n",
    "    random_col.insert_one({\"Username\": username, \n",
    "                           \"Password\": password,\n",
    "                           \"Url\":      url})"
   ]
  },
  {
   "cell_type": "markdown",
   "metadata": {},
   "source": [
    "# Test this for stuff.co.nz"
   ]
  },
  {
   "cell_type": "code",
   "execution_count": 63,
   "metadata": {},
   "outputs": [
    {
     "name": "stdout",
     "output_type": "stream",
     "text": [
      "Randomly generated password is: GDxp-|8yfX\n"
     ]
    }
   ],
   "source": [
    "password = generate_password(10)\n",
    "print(\"Randomly generated password is:\", password)\n",
    "log_password(\"johndoe@gmail.com\", password, \"https://my.stuff.co.nz\")"
   ]
  },
  {
   "cell_type": "markdown",
   "metadata": {},
   "source": [
    "# Create function to retrieve a record"
   ]
  },
  {
   "cell_type": "code",
   "execution_count": 67,
   "metadata": {
    "collapsed": true
   },
   "outputs": [],
   "source": [
    "def retrieve(username, url=None):\n",
    "    client = MongoClient(\"localhost\", 27017)\n",
    "    random_db = client.random_passwords\n",
    "    random_col = random_db[\"rng_passwords\"]\n",
    "    if url is not None:\n",
    "        return random_col.find_one({\"Username\": username, \"Url\": url})\n",
    "    return random_col.find({\"Username\": username})"
   ]
  },
  {
   "cell_type": "markdown",
   "metadata": {},
   "source": [
    "# Test this function is correct"
   ]
  },
  {
   "cell_type": "code",
   "execution_count": 71,
   "metadata": {},
   "outputs": [
    {
     "data": {
      "text/plain": [
       "True"
      ]
     },
     "execution_count": 71,
     "metadata": {},
     "output_type": "execute_result"
    }
   ],
   "source": [
    "def test_password_entry(username, password, url):\n",
    "    user_record = retrieve(username, url)\n",
    "    if user_record is None:\n",
    "        return False\n",
    "    return user_record[\"Password\"] == password\n",
    "\n",
    "test_password_entry(\"johndoe@gmail.com\", password, \"https://my.stuff.co.nz\")"
   ]
  },
  {
   "cell_type": "markdown",
   "metadata": {},
   "source": [
    "# Send generated password to the clipboard"
   ]
  },
  {
   "cell_type": "code",
   "execution_count": 66,
   "metadata": {},
   "outputs": [
    {
     "name": "stdout",
     "output_type": "stream",
     "text": [
      "')`DA?y&ub\n"
     ]
    }
   ],
   "source": [
    "import pyperclip\n",
    "pyperclip.copy(generate_password(10))\n",
    "print(pyperclip.paste())"
   ]
  },
  {
   "cell_type": "markdown",
   "metadata": {},
   "source": [
    "# Bundle all functionality together"
   ]
  },
  {
   "cell_type": "code",
   "execution_count": 73,
   "metadata": {
    "collapsed": true
   },
   "outputs": [],
   "source": [
    "import pyperclip\n",
    "def password_package(username, url, length=10):\n",
    "    password = generate_password(length)\n",
    "    log_password(username, password, url)\n",
    "    if not test_password_entry(username, password, url):\n",
    "        raise Exception(\"Logging has failed, check db connection.\")\n",
    "    pyperclip.copy(password)\n",
    "    print(\"Password has been generated, logged, and sent to clipboard.\")"
   ]
  },
  {
   "cell_type": "markdown",
   "metadata": {},
   "source": [
    "# Test this package"
   ]
  },
  {
   "cell_type": "code",
   "execution_count": 74,
   "metadata": {},
   "outputs": [
    {
     "name": "stdout",
     "output_type": "stream",
     "text": [
      "Password has been generated, logged, and sent to clipboard.\n"
     ]
    }
   ],
   "source": [
    "password_package(\"big_boy@gmail.com\", \"reddit.com\")"
   ]
  },
  {
   "cell_type": "code",
   "execution_count": 75,
   "metadata": {},
   "outputs": [
    {
     "data": {
      "text/plain": [
       "{'Password': '>cKoKD!|hG',\n",
       " 'Url': 'reddit.com',\n",
       " 'Username': 'big_boy@gmail.com',\n",
       " '_id': ObjectId('5997dff6c3372d230cc98326')}"
      ]
     },
     "execution_count": 75,
     "metadata": {},
     "output_type": "execute_result"
    }
   ],
   "source": [
    "retrieve(username=\"big_boy@gmail.com\", url=\"reddit.com\")"
   ]
  },
  {
   "cell_type": "code",
   "execution_count": 76,
   "metadata": {},
   "outputs": [
    {
     "data": {
      "text/plain": [
       "True"
      ]
     },
     "execution_count": 76,
     "metadata": {},
     "output_type": "execute_result"
    }
   ],
   "source": [
    "test_password_entry(password=\">cKoKD!|hG\", url=\"reddit.com\", \n",
    "                    username=\"big_boy@gmail.com\")"
   ]
  }
 ],
 "metadata": {
  "kernelspec": {
   "display_name": "Python 3",
   "language": "python",
   "name": "python3"
  },
  "language_info": {
   "codemirror_mode": {
    "name": "ipython",
    "version": 3
   },
   "file_extension": ".py",
   "mimetype": "text/x-python",
   "name": "python",
   "nbconvert_exporter": "python",
   "pygments_lexer": "ipython3",
   "version": "3.6.1"
  }
 },
 "nbformat": 4,
 "nbformat_minor": 2
}
